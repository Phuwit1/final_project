{
 "cells": [
  {
   "cell_type": "markdown",
   "metadata": {},
   "source": [
    "เพิ่มdb"
   ]
  },
  {
   "cell_type": "code",
   "execution_count": 2,
   "metadata": {},
   "outputs": [],
   "source": [
    "import psycopg2\n",
    "\n",
    "conn = psycopg2.connect(\n",
    "    host=\"localhost\",\n",
    "    database=\"LLM\",\n",
    "    user=\"postgres\",\n",
    "    password=\"password\"\n",
    ")\n",
    "\n",
    "cur = conn.cursor()\n",
    "cur.execute(\"\"\"\n",
    "    CREATE TABLE IF NOT EXISTS documents (\n",
    "        id SERIAL PRIMARY KEY,\n",
    "        content TEXT,\n",
    "        embedding vector(1024)\n",
    "    )\n",
    "\"\"\")\n",
    "conn.commit()\n",
    "cur.close()\n",
    "conn.close()"
   ]
  },
  {
   "cell_type": "markdown",
   "metadata": {},
   "source": [
    "add data"
   ]
  },
  {
   "cell_type": "code",
   "execution_count": 4,
   "metadata": {},
   "outputs": [],
   "source": [
    "from sentence_transformers import SentenceTransformer\n",
    "\n",
    "\n",
    "embedder = SentenceTransformer(\"BAAI/bge-m3\")\n",
    "conn = psycopg2.connect(\n",
    "    host=\"localhost\",\n",
    "    database=\"LLM\",\n",
    "    user=\"postgres\",\n",
    "    password=\"password\"\n",
    ")\n",
    "\n",
    "cur = conn.cursor()\n",
    "def add_document(text):\n",
    "    embedding = embedder.encode(text).tolist()\n",
    "    cur.execute(\"INSERT INTO documents (content, embedding) VALUES (%s, %s)\", (text, embedding))\n",
    "    conn.commit()\n",
    "\n",
    "import pandas as pd\n",
    "\n",
    "# read by default 1st sheet of an excel file\n",
    "dataframe1 = pd.read_excel('rag_data.xlsx')\n",
    "\n",
    "for index, row in dataframe1.iterrows():\n",
    "    # print(index, row.to_dict())\n",
    "    add_document(str(row.to_dict()))\n",
    "# add_document('ชมพระนอนทองสัมฤทธิ์ขนาดใหญ่ \"วัดนันโซอิน\" ที่สุดของความขลัง \"ศาลเจ้าเมคาริ\" เช็คอินมุมถ่ายรูปสุดชิคที่ใหม่!! \"เสาโทริอิกับวิวสะพาน Kanmon Bridge\" พิเศษ!! ชมปราสาทโคคุระ และเมนูพิเศษ!! บุฟเฟ่ต์ปิ้งย่าง สไตล์ญี่ปุ่น พักโรงแรมออนเซ็น 1 คืน')\n",
    "cur.close()\n",
    "conn.close()"
   ]
  },
  {
   "cell_type": "markdown",
   "metadata": {},
   "source": [
    "test query"
   ]
  },
  {
   "cell_type": "code",
   "execution_count": null,
   "metadata": {},
   "outputs": [
    {
     "data": {
      "text/plain": [
       "[('4 วัน 3 คืน นำท่านท่องเที่ยวชมทะเลญี่ปุ่น พาท่านไปยังผามันซาโมะ ผาหินที่สูงกว่า 30 เมตรมีลักษณะคล้ายงวงช้างหันหน้าสู่ทะเลจีน พิพิธภัณฑ์สัตว์น้ำชุราอูมิ พิพิธภัณฑ์สัตว์น้ำที่ดีที่ติดอันดับ 1 ใน 3 ของประเทศญี่ปุ่น ชม ปราสาทชูริ (ด้านนอก) ปราสาทตามแบบสถาปัตยกรรมของชาวริวกิว ชม ถ้ำธารมรกตเกียวคุเซ็นโด ถ้ำหินงอก และหินย้อยสวยงาม ยาวกว่า 700 เมตร ศูนย์การค้าอุมิคะจิ เทอเรส ศูนย์การค้าแห่งใหม่ที่สร้างอยู่บนเนินเขาลาดเอียงบนเกาะเซะนะกะจิมะ ศาลเจ้านะมิโนะอุเอะ ชาวญี่ปุ่นมักจะมาไหว้ขอพรเกี่ยวกับธุรกิจการงานให้เจริญรุ่งเรือง ร่ำรวย อเมริกัน วิลเลจ สร้างเลียนแบบแหล่งช้อปปิ้งย่านซานดิเอโก้ในประเทศสหรัฐอเมริกา ',\n",
       "  0.35361194610595703)]"
      ]
     },
     "execution_count": 5,
     "metadata": {},
     "output_type": "execute_result"
    }
   ],
   "source": [
    "conn = psycopg2.connect(\n",
    "    host=\"localhost\",\n",
    "    database=\"LLM\",\n",
    "    user=\"postgres\",\n",
    "    password=\"password\"\n",
    ")\n",
    "\n",
    "cur = conn.cursor()\n",
    "def query_documents(query_text, k=5):\n",
    "    query_embedding = embedder.encode(query_text).tolist()\n",
    "    query_embedding_str = \"[\" + \",\".join(map(str, query_embedding)) + \"]\"\n",
    "    query = \"\"\"\n",
    "        SELECT content, embedding <=> %s::vector AS similarity_score\n",
    "        FROM documents\n",
    "        ORDER BY similarity_score ASC\n",
    "        LIMIT %s\n",
    "    \"\"\"\n",
    "    cur.execute(query, (query_embedding_str, k))\n",
    "    results = cur.fetchall()\n",
    "    cur.close()\n",
    "    conn.close()\n",
    "    return results\n",
    "\n",
    "query_documents(\"4 วัน 3 คืน ผามันซาโมะ ฟูจิ\")   "
   ]
  },
  {
   "cell_type": "markdown",
   "metadata": {},
   "source": [
    "test prompt"
   ]
  },
  {
   "cell_type": "code",
   "execution_count": 5,
   "metadata": {},
   "outputs": [
    {
     "data": {
      "text/plain": [
       "'ยินดีต้อนรับสู่การวางแผนการเดินทางของคุณ!\\n\\n**วันที่ 1: ริมทะเลสาบคาวากุจิโกะ และหมู่บ้านน้ำใส**\\n\\n* 08:00 - นอนหลับ\\n* 09:00 - อาหารเช้า\\n* 10:00 - เดินเล่นหมู่บ้านน้ำใส\\n* 12:00 - อาหารกลางวัน\\n* 13:30 - ริมทะเลสาบคาวากุจิโกะ\\n* 16:00 - การรักไก และการผ่อนคลาย\\n* 19:00 -อาหารเย็น\\n\\n**วันที่ 2: เมืองโตเกียว**\\n\\n* 08:00 - นอนหลับ\\n* 09:00 - อาหารเช้า\\n* 10:00 - โอดาวาระ\\n* 12:30 - ปราสาทและศาลเจ้าฟูจิซัง\\n* 14:00 - ฮงกุ เซ็นเก็น และไทฉะ\\n* 17:00 - วัดอาซากุสะ และการไหว้\\n* 20:00 - อาหารเย็น\\n\\n**วันที่ 3: เมืองชิสุโอกะ**\\n\\n* 08:00 - นอนหลับ\\n* 09:00 - อาหารเช้า\\n* 10:00 - ไร่ชาเขียวพร้อมวิวเม้าท์ฟูจิ\\n* 12:30 - ตลาดปลาสึกิจิ และอาหารทะเลสดๆ\\n* 16:00 - เดินเล่นและผ่อนคลาย\\n* 19:00 - อาหารเย็น\\n\\n**วันที่ 4: เมืองฟูจิแช่ออนเซ็น**\\n\\n* 08:00 - นอนหลับ\\n* 09:00 - อาหารเช้า\\n* 10:00 - ช้อปปิ้งย่านดังชินจูกุ และ La Cittadella / ไดเวอร์ซิตี้\\n* 13:30 - บุฟเฟ่ต์ขาปู และเซ็ตชาบู\\n* 16:00 - สไตล์ญี่ปุ่นและบรรยากาศอิตาเลี่ยน\\n* 19:00 - อาหารเย็น\\n\\n**วันที่ 5: วัดคาวาซากิ ไดชิ และการผ่อนคลาย**\\n\\n* 08:00 - นอนหลับ\\n* 09:00 - อาหารเช้า\\n* 10:00 - วัดคาวาซากิ ไดชิ\\n* 12:30 - การไหว้พระขอพร\\n* 14:00 - พักโรงแรมและผ่อนคลาย\\n* 17:00 - การเตรียมตัวออกจากโรงแรม\\n\\n**หมายเหตุ**\\n\\n- ควรตรวจสอบสภาพอากาศและปรับแผนการเดินทางให้เหมาะสม\\n- ควรจองโรงแรมและเส้นทางการเดินทางล่วงหน้าเพื่อให้แน่ใจว่าจะมีที่นอนและเส้นทางที่ดี\\n- ควรเตรียมตัวสำหรับการเดินทางและพักผ่อนตามความต้องการ\\n\\nหวังว่าแผนการเดินทางนี้จะช่วยให้คุณมีประสบการณ์ที่ดีในการสำรวจเมืองฟูจิแช่ออนเซ็น!'"
      ]
     },
     "execution_count": 5,
     "metadata": {},
     "output_type": "execute_result"
    }
   ],
   "source": [
    "import ollama\n",
    "conn = psycopg2.connect(\n",
    "    host=\"localhost\",\n",
    "    database=\"LLM\",\n",
    "    user=\"postgres\",\n",
    "    password=\"password\"\n",
    ")\n",
    "\n",
    "cur = conn.cursor()\n",
    "def query_documents(query_text, k=5):\n",
    "    query_embedding = embedder.encode(query_text).tolist()\n",
    "    query_embedding_str = \"[\" + \",\".join(map(str, query_embedding)) + \"]\"\n",
    "    query = \"\"\"\n",
    "        SELECT content, embedding <=> %s::vector AS similarity_score\n",
    "        FROM documents\n",
    "        ORDER BY similarity_score ASC\n",
    "        LIMIT %s\n",
    "    \"\"\"\n",
    "    cur.execute(query, (query_embedding_str, 1))\n",
    "    results = cur.fetchall()\n",
    "    cur.close()\n",
    "    conn.close()\n",
    "    return results\n",
    "def generate_response(text):\n",
    "    retrieved_docs = query_documents(text)\n",
    "    context = \"\\n\".join([i[0] for i in retrieved_docs])\n",
    "    prompt = f\"Make an time schedule for a trip based on the following context : {context}\"\n",
    "    response = ollama.chat(model=\"llama3.2\", messages=[\n",
    "        {\"role\": \"system\", \"content\" : \"You are an assistant that helps to make a time schedule for a trip.\"},\n",
    "        {\"role\": \"user\", \"content\" : prompt},\n",
    "    ])\n",
    "    return response[\"message\"][\"content\"]\n",
    "\n",
    "generate_response(\"5 วัน 4 คืน ฟูจิ\")"
   ]
  }
 ],
 "metadata": {
  "kernelspec": {
   "display_name": ".venv",
   "language": "python",
   "name": "python3"
  },
  "language_info": {
   "codemirror_mode": {
    "name": "ipython",
    "version": 3
   },
   "file_extension": ".py",
   "mimetype": "text/x-python",
   "name": "python",
   "nbconvert_exporter": "python",
   "pygments_lexer": "ipython3",
   "version": "3.13.2"
  }
 },
 "nbformat": 4,
 "nbformat_minor": 2
}
