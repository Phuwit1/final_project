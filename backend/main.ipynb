{
 "cells": [
  {
   "cell_type": "markdown",
   "metadata": {},
   "source": [
    "เพิ่มdb"
   ]
  },
  {
   "cell_type": "code",
   "execution_count": 1,
   "metadata": {},
   "outputs": [],
   "source": [
    "import psycopg2\n",
    "\n",
    "conn = psycopg2.connect(\n",
    "    host=\"localhost\",\n",
    "    database=\"LLM\",\n",
    "    user=\"postgres\",\n",
    "    password=\"password\"\n",
    "    password=\"Guyza5521\"\n",
    ")\n",
    "\n",
    "cur = conn.cursor()\n",
    "cur.execute(\"\"\"\n",
    "    CREATE TABLE IF NOT EXISTS documents (\n",
    "        id SERIAL PRIMARY KEY,\n",
    "        title TEXT,\n",
    "        duration_days INTEGER,\n",
    "        cities TEXT[],\n",
    "        months TEXT[],\n",
    "        content TEXT,\n",
    "        embedding vector(1024)\n",
    "    )\n",
    "\"\"\")\n",
    "conn.commit()\n",
    "cur.close()\n",
    "conn.close()"
   ]
  },
  {
   "cell_type": "markdown",
   "metadata": {},
   "source": [
    "add data"
   ]
  },
  {
<<<<<<< Updated upstream
   "cell_type": "markdown",
   "metadata": {},
   "source": [
    "mark 1"
   ]
  },
  {
   "cell_type": "code",
   "execution_count": 6,
   "metadata": {},
=======
   "cell_type": "code",
   "execution_count": 3,
   "metadata": {},
>>>>>>> Stashed changes
   "outputs": [],
   "source": [
    "from sentence_transformers import SentenceTransformer\n",
    "\n",
    "\n",
    "embedder = SentenceTransformer(\"BAAI/bge-m3\")\n",
    "conn = psycopg2.connect(\n",
    "    host=\"localhost\",\n",
    "    database=\"LLM\",\n",
    "    user=\"postgres\",\n",
    "    password=\"Guyza5521\"\n",
    ")\n",
    "\n",
    "cur = conn.cursor()\n",
    "def add_document(text):\n",
    "    embedding = embedder.encode(text).tolist()\n",
    "    cur.execute(\"INSERT INTO documents (content, embedding) VALUES (%s, %s)\", (text, embedding))\n",
    "    conn.commit()\n",
    "\n",
    "import pandas as pd\n",
    "\n",
    "# read by default 1st sheet of an excel file\n",
    "dataframe1 = pd.read_excel('rag_data_eng.xlsx')\n",
    "\n",
    "for index, row in dataframe1.iterrows():\n",
    "    # print(index, row.to_dict())\n",
    "    add_document(str(row.to_dict()))\n",
    "# add_document('ชมพระนอนทองสัมฤทธิ์ขนาดใหญ่ \"วัดนันโซอิน\" ที่สุดของความขลัง \"ศาลเจ้าเมคาริ\" เช็คอินมุมถ่ายรูปสุดชิคที่ใหม่!! \"เสาโทริอิกับวิวสะพาน Kanmon Bridge\" พิเศษ!! ชมปราสาทโคคุระ และเมนูพิเศษ!! บุฟเฟ่ต์ปิ้งย่าง สไตล์ญี่ปุ่น พักโรงแรมออนเซ็น 1 คืน')\n",
    "cur.close()\n",
    "conn.close()"
   ]
  },
  {
   "cell_type": "markdown",
   "metadata": {},
   "source": [
    "mark 2"
   ]
  },
  {
   "cell_type": "code",
   "execution_count": 2,
   "metadata": {},
   "outputs": [
    {
     "name": "stderr",
     "output_type": "stream",
     "text": [
      "d:\\study\\finalproject\\final\\backend\\.venv\\Lib\\site-packages\\tqdm\\auto.py:21: TqdmWarning: IProgress not found. Please update jupyter and ipywidgets. See https://ipywidgets.readthedocs.io/en/stable/user_install.html\n",
      "  from .autonotebook import tqdm as notebook_tqdm\n"
     ]
    }
   ],
   "source": [
    "from sentence_transformers import SentenceTransformer\n",
    "import ast\n",
    "\n",
    "embedder = SentenceTransformer(\"BAAI/bge-m3\")\n",
    "conn = psycopg2.connect(\n",
    "    host=\"localhost\",\n",
    "    database=\"LLM\",\n",
    "    user=\"postgres\",\n",
    "    password=\"password\"\n",
    ")\n",
    "\n",
    "cur = conn.cursor()\n",
    "def add_document(row_dict):\n",
    "    # สร้างข้อความฝัง (embedding) จาก content หรือรวมข้อมูล\n",
    "    text_for_embedding = f'{{\"Title\": \"{row_dict[\"Title\"]}\", \"Itinerary\": \"{row_dict[\"Itinerary\"].replace(\"\\n\", \"\").strip()}\"}}'\n",
    "\n",
    "    embedding = embedder.encode(text_for_embedding).tolist()\n",
    "\n",
    "    # INSERT ให้ตรง type ของ column\n",
    "    cur.execute(\"\"\"\n",
    "        INSERT INTO documents (title, duration_days, cities, months, content, embedding)\n",
    "        VALUES (%s, %s, %s, %s, %s, %s)\n",
    "    \"\"\", (\n",
    "        row_dict['Title'],\n",
    "        row_dict['Duration Days'],\n",
    "        ast.literal_eval(row_dict['Cities']),\n",
    "        ast.literal_eval(row_dict['Best Months']),\n",
    "        text_for_embedding,\n",
    "        embedding\n",
    "    ))\n",
    "    conn.commit()\n",
    "\n",
    "import pandas as pd\n",
    "\n",
    "# read by default 1st sheet of an excel file\n",
    "dataframe1 = pd.read_excel('rag_data_eng_upgrade.xlsx')\n",
    "\n",
    "for index, row in dataframe1.iterrows():\n",
    "    # print(index, row.to_dict())\n",
    "    add_document(row.to_dict())\n",
    "# add_document('ชมพระนอนทองสัมฤทธิ์ขนาดใหญ่ \"วัดนันโซอิน\" ที่สุดของความขลัง \"ศาลเจ้าเมคาริ\" เช็คอินมุมถ่ายรูปสุดชิคที่ใหม่!! \"เสาโทริอิกับวิวสะพาน Kanmon Bridge\" พิเศษ!! ชมปราสาทโคคุระ และเมนูพิเศษ!! บุฟเฟ่ต์ปิ้งย่าง สไตล์ญี่ปุ่น พักโรงแรมออนเซ็น 1 คืน')\n",
    "cur.close()\n",
    "conn.close()"
   ]
  },
  {
   "cell_type": "markdown",
   "metadata": {},
   "source": [
    "test query"
   ]
  },
  {
   "cell_type": "code",
   "execution_count": 4,
   "metadata": {},
   "outputs": [
    {
     "data": {
      "text/plain": [
       "[('{\\'Tour Details\\': \\'14 days 13 nights Japan In Depth with Japanese Alps (Reverse): Takayama Spring Festival & Cherry Blossoms | Fukuoka Airport - Saga (Mifuneyama Rakuen), Nagasaki (Nagasaki Peace Park / Dejima / Glover Garden / Oura Church) - Ferry from Shimabara to Kumamoto, Takachiho (Takachiho Gorge / Amano Iwato Shrine & Amano Yasukawara / Yokagura Performance) - Beppu (Beppu Hells / Mt. Takasaki Monkey Park), Kitsuki (Kitsuki Samurai Districts - Ohara Residence), From Kitsuki, take the \"Sonic\" express train to Kokura, then board the Shinkansen bullet train to Hiroshima - Hiroshima (Peace Memorial Park - A-Bomb Museum / Miyajima - Itsukushima Shrine), Shimanami Kaido (Scenic Driving) - Takamatsu (Shikoku Mura Village / Ritsurin Park), Seto Ohashi Bridge - Kurashiki (Canal Area), Himeji (Himeji Castle), Kobe (Wagyu beef) - Nara (Todai-ji Temple / Nara Deer Park), Kyoto (Fushimi Inari Shrine) - Kyoto (Arashiyama - Sagano Bamboo Forest / Golden Pavilion / Green Tea Ceremony with Maiko Interaction / Kiyomizu Temple / Maruyama Park / Gion Geisha District) - Shinkansen Bullet Train Ride from Kyoto to Maibara, Kanazawa (Kenrokuen Garden), Shirakawa-go, Takayama (Takayama Night Festival) - Takayama (Morning Market / Takayama Jinya / Old Town / Takayama Festival) - Mt Fuji, Hakone (Hakone Ropeway / Owakudani), Tokyo (Shibuya - Shibuya Crossing - Hachiko Statue) - Tokyo (Tsukiji Outer Market / Drive by Imperial Palace / Sushi Making Experience / Asakusa Sensoji Temple / Tokyo Skytree) - Tour Ends - \\'}',\n",
       "  0.3467198196983552),\n",
       " ('{\\'Tour Details\\': \\'14 days 13 nights Japan In Depth with Japanese Alps Spring (Reverse) | Fukuoka Airport - Nagasaki (Nagasaki Peace Park / Dejima / Glover Garden / Oura Church) - Ferry from Shimabara to Kumamoto, Takachiho (Takachiho Gorge / Amano Iwato Shrine & Amano Yasukawara / Yokagura Performance) - Beppu (Beppu Hells / Mt. Takasaki Monkey Park), Kitsuki (Kitsuki Samurai Districts - Ohara Residence), From Kitsuki, take the \"Sonic\" express train to Kokura, then board the Shinkansen bullet train to Hiroshima - Hiroshima (Peace Memorial Park - A-Bomb Museum / Miyajima - Itsukushima Shrine), Shimanami Kaido (Scenic Driving) - Takamatsu (Shikoku Mura Village / Ritsurin Park), Seto Ohashi Bridge - Kurashiki (Canal Area), Himeji (Himeji Castle), Kobe (Wagyu beef) - Nara (Todaiji Temple / Deer Park), Kyoto (Fushimi Inari Shrine) - Kyoto (Arashiyama - Sagano Bamboo Forest / Golden Pavilion / Green Tea Ceremony with Maiko Interaction / Kiyomizu Temple / Gion Geisha District) - Shinkansen Bullet Train Ride from Kyoto to Maibara, Kanazawa (Kenrokuen Garden), Shirakawa-go (Gassho-zukuri Minkaen) - Takayama (Morning Market / Takayama Jinya / Old Town), Matsumoto (Matsumoto Castle) - Mt Fuji, Hakone (Hakone Ropeway / Owakudani), Tokyo (Shibuya - Shibuya Crossing - Hachiko Statue) - Tokyo (Tsukiji Outer Market / Drive by Imperial Palace / Sushi Making Experience / Asakusa Sensoji Temple / Tokyo Skytree) - Tour Ends - \\'}',\n",
       "  0.351876953132333),\n",
       " (\"{'Tour Details': '14 days 13 nights Japan Pottery, Garden & Art Tour | Fukuoka Airport - Toho Village (Koishiwara Ware Center / Koishiwara Ware Village), Sasebo (Visit 2 Kilns of Mikawachi Ware), Hasami (Hasami Ware Center) - Arita (Izumiyama Ceramic Stone Field / Tozan Shinto Shrine / Lunch at Arita House and Aritaria Outlet / Meet an Artist at His Studio - Introduce Arita Ware Style / Arita Ware Village / Imaemon Ceramics Art Museum / Kyushu Ceramic Museum) - Karatsu (Karatsu Castle Observatory / Karatsu City Mini Walk / Arupino - Karatsu Ware Showroom / Meet an Artist at His Studio - Introduce Karatsu Ware Style) - Fukuoka to Okayama by Bullet Train, Bizen (Meet an Artist at His Studio - Introduce Bizen Ware Style), Imbe (Bizen Pottery Village), Kurashiki (Ohara Museum of Art / Canal Area) - Yasugi (Adachi Museum and Garden) - Naoshima (Art House Project / Chichu Art Museum / Benesse House) - Takamatsu (Ritsurin Garden), Awaji Island (Akashi-Kaikyo Bridge), Kobe (Suwayama Observatory / Ikuta Shrine / China Town) - Osaka (Harukas 300 Observatory / Shitennoji Temple), Nara (Horyuji Temple), Osaka (Osaka Architecture Walking Tour - Louis Vuitton Maison Osaka Midosuji - Galleria Akka - Daimaru Shinsaibashi - etc. / Wagyu Beef Dinner) - Kyoto (Nijo Castle / Imperial Palace / Lunch on Own at Nishiki Market / Visit a Private Garden - Namikawa Yasuyuki Sippo Memorial Museum / Heian Shrine & Garden / Kimono Wearing Experience) - Kyoto (Kintsugi Experience / Free Time in the Afternoon / Kyoto Cuisine with Maiko Dinner / Gion Night Walking Tour) - Kyoto (Kiyomizu Temple / Meet an Artist at His Studio - Introduce Kiyomizu Ware Style / Kiyomizu Ware Area / Tempura Lunch at Kadokyuu / Kawai Kanjiro Memorial Hall / Shinmonzen & Furumonzen Antique Streets) - Kyoto (Kodaiji Temple - Zen Meditation & Green Tea Ceremony / Arashiyama - Tenryuji Temple & Garden - Bamboo Grove / Ryoanji Temple / Golden Pavilion / Farewell Dinner) - Tour Ends - '}\",\n",
       "  0.35462609799944655),\n",
       " ('{\\'Tour Details\\': \"7 Days Highlights of Japan | Uncover the essence of Japan in just 7 days! This meticulously crafted tour showcases iconic landmarks and unique cultural encounters. Begin in Tokyo, exploring the vibrant Tsukiji Fish Market , the historic Asakusa district. Immerse yourself in the captivating world of TeamLab and witness the electrifying energy of Shibuya Crossing . Ascend the Hakone Ropeway for breathtaking vistas of Mt. Fuji and the geothermal wonders of Owakudani . Travel by bullet train to Kyoto, where you\\'ll explore the serene Arashiyama Bamboo Grove , the shimmering Golden Pavilion (Kinkaku-ji) , and the enchanting atmosphere of Ninenzaka . Participate in a traditional tea ceremony , indulge in the flavors of Kyoto cuisine with a special Maiko Dinner , and visit the vibrant red torii gates of Fushimi Inari Shrine . Continue to Nara, where you\\'ll encounter gentle deer in Nara Park and marvel at the colossal Buddha statue in Todai-ji Temple . | Day 1 Tokyo | Arrive in Japan & Check-in Hotel - Day 2 Tokyo | Enjoy the day free at your Leisure - Day 3 Tokyo | Strolling Through Historic Asakusa - Day 4 Hakone | Immerse in Traditional Japanese Culture - Day 5 Kyoto | Breathtaking Maiko Show & Bamboo Forest - Day 6 Kyoto & Nara | Meet & Greet the friendly Deer of Nara - Day 7 Osaka | Tour Disbands & Depart from Japan\"}',\n",
       "  0.35992331982573034),\n",
       " ('{\\'Tour Details\\': \\'14 days 13 nights Japan In Depth with Japanese Alps: Autumn Leaves & Cherry Blossoms | Tokyo Narita Airport - Tokyo (Tsukiji Outer Market / Drive by Imperial Palace / Sushi Making Experience / Asakusa Sensoji Temple / Tokyo Skytree) - Mt Fuji, Hakone (Hakone Ropeway / Owakudani), Shinkansen Bullet Train Ride - Obara (Obara Shikizakura Festival), Takayama (Old Town / Takayama Jinya) - Takayama (Morning Market), Shirakawa-go (Gassho-zukuri Minkaen), Kanazawa (Kenrokuen) - Kyoto (Arashiyama - Sagano Bamboo Forest / Golden Pavilion / Green Tea Ceremony with Maiko Interaction / Kiyomizu Temple / Gion Geisha District) - Kyoto (Fushimi Inari Shrine), Nara (Todaiji Temple / Deer Park), Osaka (Dotonbori - Shinsaibashi) - Himeji (Himeji Castle), Kurashiki (Canal Area) - Seto Ohashi Bridge, Takamatsu (Shikoku Mura Village / Ritsurin Park) - Shimanami Kaido (Scenic Driving), Hiroshima (Peace Memorial Park - A-Bomb Museum / Miyajima - Itsukushima Shrine) - Shinkansen to Kokura, then board the \"Sonic\" express train to Kitsuki, Kitsuki (Kitsuki Samurai Districts - Ohara Residence), Beppu (Beppu Hells / Mt. Takasaki Monkey Park), Takachiho (Takachiho Shrine - Yokagura Performance) - Takachiho (Takachiho Gorge / Amano Iwato Shrine), Ferry from Kumamoto to Shimabara - Nagasaki (Nagasaki Peace Park / Dejima / Glover Garden / Oura Church), Fukuoka (Wagyu Dinner) - Tour Ends - \\'}',\n",
       "  0.36055318352262955)]"
      ]
     },
     "execution_count": 4,
     "metadata": {},
     "output_type": "execute_result"
    }
   ],
   "source": [
    "conn = psycopg2.connect(\n",
    "    host=\"localhost\",\n",
    "    database=\"LLM\",\n",
    "    user=\"postgres\",\n",
    "    password=\"Guyza5521\"\n",
    ")\n",
    "\n",
    "cur = conn.cursor()\n",
    "def query_documents(query_text, k=5):\n",
    "    query_embedding = embedder.encode(query_text).tolist()\n",
    "    query_embedding_str = \"[\" + \",\".join(map(str, query_embedding)) + \"]\"\n",
    "    query = \"\"\"\n",
    "        SELECT content, embedding <=> %s::vector AS similarity_score\n",
    "        FROM documents\n",
    "        ORDER BY similarity_score ASC\n",
    "        LIMIT %s\n",
    "    \"\"\"\n",
    "    cur.execute(query, (query_embedding_str, k))\n",
    "    results = cur.fetchall()\n",
    "    cur.close()\n",
    "    conn.close()\n",
    "    return results\n",
    "\n",
    "query_documents(\"4 Days 3 Nights in Fukuoka, Japan\")  # Example query"
   ]
  },
  {
   "cell_type": "markdown",
   "metadata": {},
   "source": [
    "test prompt"
   ]
  },
  {
   "cell_type": "code",
   "execution_count": 5,
   "metadata": {},
   "outputs": [
    {
     "data": {
      "text/plain": [
       "'ยินดีต้อนรับสู่การวางแผนการเดินทางของคุณ!\\n\\n**วันที่ 1: ริมทะเลสาบคาวากุจิโกะ และหมู่บ้านน้ำใส**\\n\\n* 08:00 - นอนหลับ\\n* 09:00 - อาหารเช้า\\n* 10:00 - เดินเล่นหมู่บ้านน้ำใส\\n* 12:00 - อาหารกลางวัน\\n* 13:30 - ริมทะเลสาบคาวากุจิโกะ\\n* 16:00 - การรักไก และการผ่อนคลาย\\n* 19:00 -อาหารเย็น\\n\\n**วันที่ 2: เมืองโตเกียว**\\n\\n* 08:00 - นอนหลับ\\n* 09:00 - อาหารเช้า\\n* 10:00 - โอดาวาระ\\n* 12:30 - ปราสาทและศาลเจ้าฟูจิซัง\\n* 14:00 - ฮงกุ เซ็นเก็น และไทฉะ\\n* 17:00 - วัดอาซากุสะ และการไหว้\\n* 20:00 - อาหารเย็น\\n\\n**วันที่ 3: เมืองชิสุโอกะ**\\n\\n* 08:00 - นอนหลับ\\n* 09:00 - อาหารเช้า\\n* 10:00 - ไร่ชาเขียวพร้อมวิวเม้าท์ฟูจิ\\n* 12:30 - ตลาดปลาสึกิจิ และอาหารทะเลสดๆ\\n* 16:00 - เดินเล่นและผ่อนคลาย\\n* 19:00 - อาหารเย็น\\n\\n**วันที่ 4: เมืองฟูจิแช่ออนเซ็น**\\n\\n* 08:00 - นอนหลับ\\n* 09:00 - อาหารเช้า\\n* 10:00 - ช้อปปิ้งย่านดังชินจูกุ และ La Cittadella / ไดเวอร์ซิตี้\\n* 13:30 - บุฟเฟ่ต์ขาปู และเซ็ตชาบู\\n* 16:00 - สไตล์ญี่ปุ่นและบรรยากาศอิตาเลี่ยน\\n* 19:00 - อาหารเย็น\\n\\n**วันที่ 5: วัดคาวาซากิ ไดชิ และการผ่อนคลาย**\\n\\n* 08:00 - นอนหลับ\\n* 09:00 - อาหารเช้า\\n* 10:00 - วัดคาวาซากิ ไดชิ\\n* 12:30 - การไหว้พระขอพร\\n* 14:00 - พักโรงแรมและผ่อนคลาย\\n* 17:00 - การเตรียมตัวออกจากโรงแรม\\n\\n**หมายเหตุ**\\n\\n- ควรตรวจสอบสภาพอากาศและปรับแผนการเดินทางให้เหมาะสม\\n- ควรจองโรงแรมและเส้นทางการเดินทางล่วงหน้าเพื่อให้แน่ใจว่าจะมีที่นอนและเส้นทางที่ดี\\n- ควรเตรียมตัวสำหรับการเดินทางและพักผ่อนตามความต้องการ\\n\\nหวังว่าแผนการเดินทางนี้จะช่วยให้คุณมีประสบการณ์ที่ดีในการสำรวจเมืองฟูจิแช่ออนเซ็น!'"
      ]
     },
     "execution_count": 5,
     "metadata": {},
     "output_type": "execute_result"
    }
   ],
   "source": [
    "import ollama\n",
    "conn = psycopg2.connect(\n",
    "    host=\"localhost\",\n",
    "    database=\"LLM\",\n",
    "    user=\"postgres\",\n",
    "    password=\"password\"\n",
    ")\n",
    "\n",
    "cur = conn.cursor()\n",
    "def query_documents(query_text, k=5):\n",
    "    query_embedding = embedder.encode(query_text).tolist()\n",
    "    query_embedding_str = \"[\" + \",\".join(map(str, query_embedding)) + \"]\"\n",
    "    query = \"\"\"\n",
    "        SELECT content, embedding <=> %s::vector AS similarity_score\n",
    "        FROM documents\n",
    "        ORDER BY similarity_score ASC\n",
    "        LIMIT %s\n",
    "    \"\"\"\n",
    "    cur.execute(query, (query_embedding_str, 1))\n",
    "    results = cur.fetchall()\n",
    "    cur.close()\n",
    "    conn.close()\n",
    "    return results\n",
    "def generate_response(text):\n",
    "    retrieved_docs = query_documents(text)\n",
    "    context = \"\\n\".join([i[0] for i in retrieved_docs])\n",
    "    prompt = f\"Make an time schedule for a trip based on the following context : {context}\"\n",
    "    response = ollama.chat(model=\"llama3.2\", messages=[\n",
    "        {\"role\": \"system\", \"content\" : \"You are an assistant that helps to make a time schedule for a trip.\"},\n",
    "        {\"role\": \"user\", \"content\" : prompt},\n",
    "    ])\n",
    "    return response[\"message\"][\"content\"]\n",
    "\n",
    "generate_response(\"5 วัน 4 คืน ฟูจิ\")"
   ]
  }
 ],
 "metadata": {
  "kernelspec": {
   "display_name": "Python 3",
   "language": "python",
   "name": "python3"
  },
  "language_info": {
   "codemirror_mode": {
    "name": "ipython",
    "version": 3
   },
   "file_extension": ".py",
   "mimetype": "text/x-python",
   "name": "python",
   "nbconvert_exporter": "python",
   "pygments_lexer": "ipython3",
   "version": "3.13.3"
  }
 },
 "nbformat": 4,
 "nbformat_minor": 2
}
